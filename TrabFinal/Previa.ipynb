{
 "cells": [
  {
   "cell_type": "code",
   "execution_count": 1,
   "metadata": {},
   "outputs": [],
   "source": [
    "# Importando e configurando módulos\n",
    "import numpy as np\n",
    "import pandas as pd \n",
    "import matplotlib.pyplot as plt\n",
    "%config InlineBackend.figure_format = 'svg'\n",
    "import jupyter2latex as j2l\n",
    "from math import pi"
   ]
  },
  {
   "source": [
    "# Projeto do modelo reduzido\n",
    "\n",
    "O projeto do modelo reduzido é baseado na introdução de escalas que relacionem grandezas do modelo reduzido e do modelo real, onde o número de escalas deve ser menor ou igual ao número de grandezas fundamentais envolvidas no problema. Para o problema em questão as grandezas fundamentais são três: comprimento ($L$), massa ($M$) e tempo ($T$), que formam a base da matriz dimensional. Para construção do modelo reduzido as grandezas escolhidas para serem escaladas são relativas ao comprimento ($L$), à rigidez à flexão ($EI$) e à aceleração ($a$)."
   ],
   "cell_type": "markdown",
   "metadata": {}
  },
  {
   "source": [
    "Os fatores de escala adotados para $L$ e $EI$ são baseados no material empregado para construção das colunas do modelo, essas serão formadas por réguas de alumínio, com cerca de $50 cm$ de comprimento, à serem adquiridas e caracterizadas. A distância entre os pavimentos será representada por trechos de $10 cm$, logo, a escala de comprimento $\\lambda_L$ será:"
   ],
   "cell_type": "markdown",
   "metadata": {}
  },
  {
   "cell_type": "code",
   "execution_count": 2,
   "metadata": {},
   "outputs": [
    {
     "output_type": "display_data",
     "data": {
      "text/latex": "$$ \\lambda_L = 1:30.00 $$",
      "text/html": "$$ \\lambda_L = 1:30.00 $$",
      "text/markdown": "$$ \\lambda_L = 1:30.00 $$"
     },
     "metadata": {}
    }
   ],
   "source": [
    "L_pav = 10\n",
    "scale_L = L_pav/300\n",
    "\n",
    "j2l.print(f\"$$ \\lambda_L = 1:{1/scale_L:.2f} $$\")"
   ]
  },
  {
   "source": [
    "A escala da rigidez à flexão $EI$ relaciona a rigidez de 2 réguas às colunas do edifício. Adotando concreto da classe C25 tem-se $E_C=28GPa$, enquanto para a régua em alumínio tem-se $E_{r}=70GPa$. Em relação às geometrias, são estimadas para às reguas larguras de $2.5cm$ e espessuras de $0.1cm$, enquanto os pilares tem seção quadrada de $25 \\times 25cm$; seus momentos de inércia $I$ são dados por \\ref{eq:mI}.\n",
    "\n",
    "\\begin{equation}\n",
    "\\label{eq:mI}\n",
    "I = \\frac{bh^3}{12}\n",
    "\\end{equation}\n",
    "\n",
    "Dessa forma:"
   ],
   "cell_type": "markdown",
   "metadata": {}
  },
  {
   "cell_type": "code",
   "execution_count": 3,
   "metadata": {},
   "outputs": [
    {
     "output_type": "display_data",
     "data": {
      "text/latex": "- Momento de inércia de um pilar em concreto: $I_C=3.255E-04 \\: m^4$. \n\n- Rigidez à flexão do pilar em concreto: $EI_C=9.115E+06 Nm^2$",
      "text/html": "- Momento de inércia de um pilar em concreto: $I_C=3.255E-04 \\: m^4$. \n\n- Rigidez à flexão do pilar em concreto: $EI_C=9.115E+06 Nm^2$",
      "text/markdown": "- Momento de inércia de um pilar em concreto: $I_C=3.255E-04 \\: m^4$. \n\n- Rigidez à flexão do pilar em concreto: $EI_C=9.115E+06 Nm^2$"
     },
     "metadata": {}
    },
    {
     "output_type": "display_data",
     "data": {
      "text/latex": "- Momento de inércia de uma regua em alumínio: $I_r=2.083E-12 \\: m^4$. \n\n- Rigidez à flexão da régua em alumínio: $EI_r=1.458E-01 Nm^2$",
      "text/html": "- Momento de inércia de uma regua em alumínio: $I_r=2.083E-12 \\: m^4$. \n\n- Rigidez à flexão da régua em alumínio: $EI_r=1.458E-01 Nm^2$",
      "text/markdown": "- Momento de inércia de uma regua em alumínio: $I_r=2.083E-12 \\: m^4$. \n\n- Rigidez à flexão da régua em alumínio: $EI_r=1.458E-01 Nm^2$"
     },
     "metadata": {}
    }
   ],
   "source": [
    "# Propriedades dos materiais\n",
    "E_C = 28E9  # Concreto\n",
    "E_r = 70E9  # Régua\n",
    "\n",
    "# Geometria em concreto dos pilares\n",
    "b_C = 0.25\n",
    "h_C = 0.25\n",
    "I_C = b_C*h_C**3/12\n",
    "EI_C = E_C * I_C\n",
    "j2l.print(f'''- Momento de inércia de um pilar em concreto: ${I_C=:.3E} \\: m^4$. \n",
    "\n",
    "- Rigidez à flexão do pilar em concreto: ${EI_C=:.3E} Nm^2$''')\n",
    "\n",
    "# Geometria da régua\n",
    "b_r = 0.025\n",
    "h_r = 0.001\n",
    "I_r = b_r*h_r**3/12\n",
    "EI_r = E_r * I_r \n",
    "j2l.print(f'''- Momento de inércia de uma regua em alumínio: ${I_r=:.3E} \\: m^4$. \n",
    "\n",
    "- Rigidez à flexão da régua em alumínio: ${EI_r=:.3E} Nm^2$''')\n"
   ]
  },
  {
   "source": [
    "Conforme descrito anteriormente o edifício é composto por 9 pilares, distribuídos em 3 linhas, enquanto o modelo em escala é composto por duas réguas, dessa forma, a escala da rigidez à flexão $\\lambda_{EI}$ será:"
   ],
   "cell_type": "markdown",
   "metadata": {}
  },
  {
   "cell_type": "code",
   "execution_count": 4,
   "metadata": {},
   "outputs": [
    {
     "output_type": "display_data",
     "data": {
      "text/latex": "$$ \\lambda_{EI} =1:2.812E+08$$",
      "text/html": "$$ \\lambda_{EI} =1:2.812E+08$$",
      "text/markdown": "$$ \\lambda_{EI} =1:2.812E+08$$"
     },
     "metadata": {}
    }
   ],
   "source": [
    "scale_EI = (2*EI_r) / (9*EI_C)\n",
    "j2l.print(\"$$ \\lambda_{EI} =\" + f\"1:{1/scale_EI:.3E}$$\")"
   ]
  },
  {
   "source": [
    "Em relação à escala de acelerações ($a$) optou-se inicialmente por manter a proporção $\\lambda_a=1:1$. Todavia, visto que o problema de vibração livre é independente da aceleração da gravidade essa poderá ser alterada de forma a facilitar a construção do modelo."
   ],
   "cell_type": "markdown",
   "metadata": {}
  },
  {
   "cell_type": "code",
   "execution_count": 5,
   "metadata": {},
   "outputs": [],
   "source": [
    "scale_a = 1/1"
   ]
  },
  {
   "source": [
    "Em posse das escalas impostas, para construção do modelo reduzido e realização da análise devem ser conhecidas as escalas derivadas necessárias, que são obtidas através de uma análise dimensional, onde a base da nova matriz dimensional será formada pelas grandezas $L$, $EI$ e $a$. Fazendo uso da metodologia implementada por Rocha (2020), a base da matriz dimensional é alterada para a base $L$, $EI$ e $a$:"
   ],
   "cell_type": "markdown",
   "metadata": {}
  },
  {
   "cell_type": "code",
   "execution_count": 6,
   "metadata": {},
   "outputs": [
    {
     "output_type": "display_data",
     "data": {
      "text/latex": "\n    \\begin{table}[H]\n    \\centering\n    \\caption{L,EI,a na base L,M,T}\n    {\\begin{tabular}{lrrr}\n\\toprule\n{} &  L &  M &  T \\\\\n\\midrule\nL  &  1 &  0 &  0 \\\\\nEI &  3 &  1 & -2 \\\\\na  &  1 &  0 & -2 \\\\\n\\bottomrule\n\\end{tabular}\n}\n    \\label{}\n    \\end{table}\n    ",
      "text/html": "\n    <div name='' align='center'>\n    L,EI,a na base L,M,T<br>\n    <table border=\"1\" class=\"dataframe\">\n  <thead>\n    <tr style=\"text-align: right;\">\n      <th></th>\n      <th>L</th>\n      <th>M</th>\n      <th>T</th>\n    </tr>\n  </thead>\n  <tbody>\n    <tr>\n      <th>L</th>\n      <td>1</td>\n      <td>0</td>\n      <td>0</td>\n    </tr>\n    <tr>\n      <th>EI</th>\n      <td>3</td>\n      <td>1</td>\n      <td>-2</td>\n    </tr>\n    <tr>\n      <th>a</th>\n      <td>1</td>\n      <td>0</td>\n      <td>-2</td>\n    </tr>\n  </tbody>\n</table>\n    </div>",
      "text/markdown": "L,EI,a na base L,M,T\n\n|    |   L |   M |   T |\n|:---|----:|----:|----:|\n| L  |   1 |   0 |   0 |\n| EI |   3 |   1 |  -2 |\n| a  |   1 |   0 |  -2 |\n\n<br>\n\n"
     },
     "metadata": {}
    },
    {
     "output_type": "display_data",
     "data": {
      "text/latex": "\n    \\begin{table}[H]\n    \\centering\n    \\caption{L,M,T na base L,EI,a}\n    {\\begin{tabular}{lrrr}\n\\toprule\n{} &    L &   EI &    a \\\\\n\\midrule\nL &  1.0 &  0.0 &  0.0 \\\\\nM & -2.0 &  1.0 & -1.0 \\\\\nT &  0.5 & -0.0 & -0.5 \\\\\n\\bottomrule\n\\end{tabular}\n}\n    \\label{}\n    \\end{table}\n    ",
      "text/html": "\n    <div name='' align='center'>\n    L,M,T na base L,EI,a<br>\n    <table border=\"1\" class=\"dataframe\">\n  <thead>\n    <tr style=\"text-align: right;\">\n      <th></th>\n      <th>L</th>\n      <th>EI</th>\n      <th>a</th>\n    </tr>\n  </thead>\n  <tbody>\n    <tr>\n      <th>L</th>\n      <td>1.0</td>\n      <td>0.0</td>\n      <td>0.0</td>\n    </tr>\n    <tr>\n      <th>M</th>\n      <td>-2.0</td>\n      <td>1.0</td>\n      <td>-1.0</td>\n    </tr>\n    <tr>\n      <th>T</th>\n      <td>0.5</td>\n      <td>-0.0</td>\n      <td>-0.5</td>\n    </tr>\n  </tbody>\n</table>\n    </div>",
      "text/markdown": "L,M,T na base L,EI,a\n\n|    |    L |   EI |    a |\n|:---|-----:|-----:|-----:|\n| L  |  1   |    0 |  0   |\n| M  | -2   |    1 | -1   |\n| T  |  0.5 |   -0 | -0.5 |\n\n<br>\n\n"
     },
     "metadata": {}
    }
   ],
   "source": [
    "# Importando DimData \n",
    "DimData = pd.read_excel('../Resources/DimData.xlsx', index_col=0, sheet_name='DimData')\n",
    "\n",
    "# Grandezas fundamentais originais \n",
    "LMT = ['L', 'M', 'T']\n",
    "\n",
    "# Novas base de grandezas\n",
    "ABC = ['L', 'EI', 'a'] \n",
    "\n",
    "# Importa matriz dimensional de ABC na base LMT\n",
    "base = DimData.loc[ABC, LMT]\n",
    "j2l.df2table(base, '{} na base {}'.format(','.join(ABC), ','.join(LMT)))\n",
    "\n",
    "# Inverte base de unidades de LMT para ABC\n",
    "base_i = pd.DataFrame(np.linalg.inv(base), index=LMT, columns=ABC)\n",
    "j2l.df2table(base_i, '{} na base {}'.format(','.join(LMT), ','.join(ABC)))"
   ]
  },
  {
   "source": [
    "Para análise do modelo reduzido é necessário o conhecimento da escala de massa ($\\lambda_m$), necessária para determinação das massas dos pavimentos, e a escala de frequências ($\\lambda_f$), que relaciona as frequências de vibração do modelo reduzido e da estrutura real. Para a determinação da tais fatores essas grandezas devem estar presentes na matriz dimensional de base $L$, $EI$ e $a$."
   ],
   "cell_type": "markdown",
   "metadata": {}
  },
  {
   "source": [
    "par = ABC + ['m', 'f']\n",
    "npar = len(par)\n",
    "\n",
    "DMat_LMT = DimData.loc[par, LMT]\n",
    "DMat_ABC = np.matmul(DMat_LMT, base_i)\n",
    "DMat_ABC.rename(columns=dict(zip(LMT, ABC)), inplace=True) # Renomeia colunas para nova base\n",
    "j2l.df2table(DMat_ABC, 'Matriz $D$  na base {}'.format(','.join(ABC)))"
   ],
   "cell_type": "code",
   "metadata": {},
   "execution_count": 7,
   "outputs": [
    {
     "output_type": "display_data",
     "data": {
      "text/latex": "\n    \\begin{table}[H]\n    \\centering\n    \\caption{Matriz $D$  na base L,EI,a}\n    {\\begin{tabular}{lrrr}\n\\toprule\n{} &    L &   EI &    a \\\\\n\\midrule\nL  &  1.0 &  0.0 &  0.0 \\\\\nEI &  0.0 &  1.0 &  0.0 \\\\\na  &  0.0 &  0.0 &  1.0 \\\\\nm  & -2.0 &  1.0 & -1.0 \\\\\nf  & -0.5 &  0.0 &  0.5 \\\\\n\\bottomrule\n\\end{tabular}\n}\n    \\label{}\n    \\end{table}\n    ",
      "text/html": "\n    <div name='' align='center'>\n    Matriz $D$  na base L,EI,a<br>\n    <table border=\"1\" class=\"dataframe\">\n  <thead>\n    <tr style=\"text-align: right;\">\n      <th></th>\n      <th>L</th>\n      <th>EI</th>\n      <th>a</th>\n    </tr>\n  </thead>\n  <tbody>\n    <tr>\n      <th>L</th>\n      <td>1.0</td>\n      <td>0.0</td>\n      <td>0.0</td>\n    </tr>\n    <tr>\n      <th>EI</th>\n      <td>0.0</td>\n      <td>1.0</td>\n      <td>0.0</td>\n    </tr>\n    <tr>\n      <th>a</th>\n      <td>0.0</td>\n      <td>0.0</td>\n      <td>1.0</td>\n    </tr>\n    <tr>\n      <th>m</th>\n      <td>-2.0</td>\n      <td>1.0</td>\n      <td>-1.0</td>\n    </tr>\n    <tr>\n      <th>f</th>\n      <td>-0.5</td>\n      <td>0.0</td>\n      <td>0.5</td>\n    </tr>\n  </tbody>\n</table>\n    </div>",
      "text/markdown": "Matriz $D$  na base L,EI,a\n\n|    |    L |   EI |    a |\n|:---|-----:|-----:|-----:|\n| L  |  1   |    0 |  0   |\n| EI |  0   |    1 |  0   |\n| a  |  0   |    0 |  1   |\n| m  | -2   |    1 | -1   |\n| f  | -0.5 |    0 |  0.5 |\n\n<br>\n\n"
     },
     "metadata": {}
    }
   ]
  },
  {
   "source": [
    "Por fim, aplicando sobre a matriz $\\bf{D}$ as escalas impostas tem-se a tabela de escalas:"
   ],
   "cell_type": "markdown",
   "metadata": {}
  },
  {
   "cell_type": "code",
   "execution_count": 8,
   "metadata": {},
   "outputs": [
    {
     "output_type": "display_data",
     "data": {
      "text/latex": "\n    \\begin{table}[H]\n    \\centering\n    \\caption{Fatores de escala}\n    {\\begin{tabular}{lrr}\n\\toprule\n{} &             λ &           1/λ \\\\\n\\midrule\nL  &  3.333333e-02 &  3.000000e+01 \\\\\nEI &  3.555556e-09 &  2.812500e+08 \\\\\na  &  1.000000e+00 &  1.000000e+00 \\\\\nm  &  3.200000e-06 &  3.125000e+05 \\\\\nf  &  5.477226e+00 &  1.825742e-01 \\\\\n\\bottomrule\n\\end{tabular}\n}\n    \\label{}\n    \\end{table}\n    ",
      "text/html": "\n    <div name='' align='center'>\n    Fatores de escala<br>\n    <table border=\"1\" class=\"dataframe\">\n  <thead>\n    <tr style=\"text-align: right;\">\n      <th></th>\n      <th>λ</th>\n      <th>1/λ</th>\n    </tr>\n  </thead>\n  <tbody>\n    <tr>\n      <th>L</th>\n      <td>3.333333e-02</td>\n      <td>3.000000e+01</td>\n    </tr>\n    <tr>\n      <th>EI</th>\n      <td>3.555556e-09</td>\n      <td>2.812500e+08</td>\n    </tr>\n    <tr>\n      <th>a</th>\n      <td>1.000000e+00</td>\n      <td>1.000000e+00</td>\n    </tr>\n    <tr>\n      <th>m</th>\n      <td>3.200000e-06</td>\n      <td>3.125000e+05</td>\n    </tr>\n    <tr>\n      <th>f</th>\n      <td>5.477226e+00</td>\n      <td>1.825742e-01</td>\n    </tr>\n  </tbody>\n</table>\n    </div>",
      "text/markdown": "Fatores de escala\n\n|    |           λ |             1/λ |\n|:---|------------:|----------------:|\n| L  | 0.0333333   |     30          |\n| EI | 3.55556e-09 |      2.8125e+08 |\n| a  | 1           |      1          |\n| m  | 3.2e-06     | 312500          |\n| f  | 5.47723     |      0.182574   |\n\n<br>\n\n"
     },
     "metadata": {}
    },
    {
     "output_type": "display_data",
     "data": {
      "text/latex": "Escalas derivadas:\n\n- Escala de massa: $\\lambda_m = 1:3.12E+05$\n\n- Escala de frequências: $\\lambda_f = 5.477:1$",
      "text/html": "Escalas derivadas:\n\n- Escala de massa: $\\lambda_m = 1:3.12E+05$\n\n- Escala de frequências: $\\lambda_f = 5.477:1$",
      "text/markdown": "Escalas derivadas:\n\n- Escala de massa: $\\lambda_m = 1:3.12E+05$\n\n- Escala de frequências: $\\lambda_f = 5.477:1$"
     },
     "metadata": {}
    }
   ],
   "source": [
    "escalas = np.array([scale_L, scale_EI, scale_a])\n",
    "escalas = np.tile(escalas, (npar, 1))\n",
    "escalas = np.prod(escalas**DMat_ABC, axis=1)\n",
    "escalas = pd.DataFrame({'λ': escalas, '1/λ': 1/escalas}, index=par)\n",
    "j2l.df2table(escalas, 'Fatores de escala')\n",
    "\n",
    "j2l.print(\"\"\"Escalas derivadas:\n",
    "\n",
    "- Escala de massa: $\\lambda_m = 1:{:.2E}$\n",
    "\n",
    "- Escala de frequências: $\\lambda_f = {:.3f}:1$\"\"\".format(escalas.loc['m', '1/λ'], escalas.loc['f', 'λ']))"
   ]
  },
  {
   "source": [
    "Dessa forma a massa dos pavimentos do modelo em escala devem ter $1/312500$ da massa de cada pavimento da estrutura real. Sendo que as vigas tem seção $25\\times50 cm$, a laje tem $h=10cm$ e considerando uma carga permanente (alvenarias, revestimentos e etc.) de $300 kg/m^2$ sobre todos os pavimentos, a massa dos pavimentos são:"
   ],
   "cell_type": "markdown",
   "metadata": {}
  },
  {
   "cell_type": "code",
   "execution_count": 9,
   "metadata": {},
   "outputs": [
    {
     "output_type": "display_data",
     "data": {
      "text/latex": "Massas da estrutura:\n\n- Massa dos pavimentos tipo: 77968.8\n\n- Massa do pavimento de cobertura 75859.4",
      "text/html": "Massas da estrutura:\n\n- Massa dos pavimentos tipo: 77968.8\n\n- Massa do pavimento de cobertura 75859.4",
      "text/markdown": "Massas da estrutura:\n\n- Massa dos pavimentos tipo: 77968.8\n\n- Massa do pavimento de cobertura 75859.4"
     },
     "metadata": {}
    }
   ],
   "source": [
    "M_vigas   = 0.25*0.50 * 10 * 6 * 2500   # 6 vigas de 10 metros por pavimento\n",
    "M_laje    = 0.10 * 10*10 * 2500         # Laje 10x10 e h=12cm\n",
    "M_cargas  = 300 * 10*10                 # carga de 300 kg/m²\n",
    "M_pilares = 0.25**2 * 3 * 2500 * 9      # 9 pilares de 3m por pavimento (1.5m apenas no pav superior)\n",
    "\n",
    "M_pavtipo = M_vigas + M_laje + M_cargas + M_pilares\n",
    "M_pavcob  = M_vigas + M_laje + M_cargas + M_pilares/2\n",
    "\n",
    "j2l.print(\"\"\"Massas da estrutura:\n",
    "\n",
    "- Massa dos pavimentos tipo: {:.1f}\n",
    "\n",
    "- Massa do pavimento de cobertura {:.1f}\"\"\".format(M_pavtipo, M_pavcob))"
   ]
  },
  {
   "source": [
    "Logo as massas dos pavimentos do modelo em escala deverão ser:"
   ],
   "cell_type": "markdown",
   "metadata": {}
  },
  {
   "cell_type": "code",
   "execution_count": 10,
   "metadata": {},
   "outputs": [
    {
     "output_type": "display_data",
     "data": {
      "text/latex": "\nMassas do modelo em escala:\n\n- Massa dos pavimentos tipo: 0.250\n\n- Massa do pavimento de cobertura 0.243",
      "text/html": "\nMassas do modelo em escala:\n\n- Massa dos pavimentos tipo: 0.250\n\n- Massa do pavimento de cobertura 0.243",
      "text/markdown": "\nMassas do modelo em escala:\n\n- Massa dos pavimentos tipo: 0.250\n\n- Massa do pavimento de cobertura 0.243"
     },
     "metadata": {}
    }
   ],
   "source": [
    "j2l.print(\"\"\"\n",
    "Massas do modelo em escala:\n",
    "\n",
    "- Massa dos pavimentos tipo: {:.3f}\n",
    "\n",
    "- Massa do pavimento de cobertura {:.3f}\"\"\".format(M_pavtipo*escalas.loc['m', 'λ'], M_pavcob*escalas.loc['m', 'λ']))"
   ]
  }
 ],
 "metadata": {
  "kernelspec": {
   "display_name": "Python 3",
   "language": "python",
   "name": "python3"
  },
  "language_info": {
   "codemirror_mode": {
    "name": "ipython",
    "version": 3
   },
   "file_extension": ".py",
   "mimetype": "text/x-python",
   "name": "python",
   "nbconvert_exporter": "python",
   "pygments_lexer": "ipython3",
   "version": "3.8.5-final"
  }
 },
 "nbformat": 4,
 "nbformat_minor": 4
}