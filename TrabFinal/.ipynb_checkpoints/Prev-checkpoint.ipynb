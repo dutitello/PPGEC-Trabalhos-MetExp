{
 "cells": [
  {
   "cell_type": "markdown",
   "metadata": {},
   "source": [
    "Prazo de entrega: 11/01/2021\n",
    "\n",
    "Nesta primeira etapa, elabore a ideia do modelo reduzido que será utilizado no restante da disciplina. Apresente a tabela de escalas e estabeleça que tipo de grandeza será medida no experimento."
   ]
  },
  {
   "cell_type": "markdown",
   "metadata": {},
   "source": [
    "# Introdução\n",
    "\n",
    "A análise dinâmica de edifícios de múltiplos pavimentos pode ser realizada matematicamente com modelos de diferentes graus de refinamento. Esses modelos costumam ter suas massas concentradas nos pavimentos e podem ser do tipo *shear building* ou tridimensionais (Soriano, 2014).\n",
    "\n",
    "O modelo *shear building*, clássico e de grande simplicidade, supõe pisos indeformáveis e colunas inextensíveis. Esse modelo equivale à uma coluna de trechos de rigidezes iguais à soma das rigidezes à flexão dos pilares de cada pavimento da edificação (Soriano, 2014). Na figura \\ref{fig:shearb} são apresentados um modelo de edifício com duas colunas de pilares e sua representação como *shear building*.\n",
    "\n",
    "\\begin{figure}\n",
    "    \\centering\n",
    "    \\caption{Modelo de edifício e sua representação como \\textit{shear building}.\\\\ \\small{(Adaptado de Soriano, 2014)}}\n",
    "    \\includegraphics[scale=0.4]{Images/ShearBuilding.png}\n",
    "    \\label{fig:shearb}\n",
    "\\end{figure}\n",
    "\n"
   ]
  },
  {
   "cell_type": "markdown",
   "metadata": {},
   "source": []
  },
  {
   "cell_type": "markdown",
   "metadata": {},
   "source": []
  },
  {
   "cell_type": "markdown",
   "metadata": {},
   "source": []
  },
  {
   "cell_type": "markdown",
   "metadata": {},
   "source": []
  }
 ],
 "metadata": {
  "kernelspec": {
   "display_name": "Python 3",
   "language": "python",
   "name": "python3"
  },
  "language_info": {
   "codemirror_mode": {
    "name": "ipython",
    "version": 3
   },
   "file_extension": ".py",
   "mimetype": "text/x-python",
   "name": "python",
   "nbconvert_exporter": "python",
   "pygments_lexer": "ipython3",
   "version": "3.8.5"
  }
 },
 "nbformat": 4,
 "nbformat_minor": 4
}
