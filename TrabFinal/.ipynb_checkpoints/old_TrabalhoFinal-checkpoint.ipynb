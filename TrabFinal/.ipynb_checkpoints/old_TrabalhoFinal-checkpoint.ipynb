{
 "cells": [
  {
   "cell_type": "markdown",
   "metadata": {},
   "source": [
    "Prazo de entrega: 11/01/2021\n",
    "\n",
    "Nesta primeira etapa, elabore a ideia do modelo reduzido que será utilizado no restante da disciplina. Apresente a tabela de escalas e estabeleça que tipo de grandeza será medida no experimento."
   ]
  },
  {
   "cell_type": "code",
   "execution_count": 1,
   "metadata": {},
   "outputs": [],
   "source": [
    "# Importando e configurando módulos\n",
    "import numpy as np\n",
    "import pandas as pd \n",
    "import matplotlib.pyplot as plt\n",
    "%config InlineBackend.figure_format = 'svg' # Muda backend do jupyter para SVG ;)\n",
    "import jupyter2latex as j2l # Uma maneira que encontrei para tabelas ficarem ok (github.com/dutitello/Jupyter2Latex)\n",
    "from numpy import pi\n",
    "import scipy.stats as st"
   ]
  },
  {
   "cell_type": "markdown",
   "metadata": {},
   "source": [
    "# Introdução\n",
    "\n",
    "A frequência de vibração livre de um sistema de um único grau de liberdade é dada por: \n",
    "\n",
    "\\begin{equation}\n",
    "    f_n = \\frac{1}{2\\pi} \\sqrt{\\frac{k}{m}}\n",
    "    \\label{eq:fn}\n",
    "\\end{equation}\n",
    "\n",
    "onde $k$ representa a rigidez do sistema e $m$ sua massa.\n",
    "\n",
    "Embora sistemas estruturais com múltiplos graus de liberdade, como edifícios, requisitem análises de maior complexidade, o vínculo entre as frequências de vibração, a rigidez do sistema e sua massa é mantido. Dessa forma, quanto menor for a massa do sistema estrutural maiores serão suas frequências de vibração. "
   ]
  },
  {
   "cell_type": "markdown",
   "metadata": {},
   "source": [
    "# Experimento proposto\n"
   ]
  },
  {
   "cell_type": "raw",
   "metadata": {},
   "source": []
  },
  {
   "cell_type": "raw",
   "metadata": {},
   "source": []
  },
  {
   "cell_type": "raw",
   "metadata": {},
   "source": []
  },
  {
   "cell_type": "raw",
   "metadata": {},
   "source": []
  }
 ],
 "metadata": {
  "kernelspec": {
   "display_name": "Python 3",
   "language": "python",
   "name": "python3"
  },
  "language_info": {
   "codemirror_mode": {
    "name": "ipython",
    "version": 3
   },
   "file_extension": ".py",
   "mimetype": "text/x-python",
   "name": "python",
   "nbconvert_exporter": "python",
   "pygments_lexer": "ipython3",
   "version": "3.8.5"
  }
 },
 "nbformat": 4,
 "nbformat_minor": 4
}
