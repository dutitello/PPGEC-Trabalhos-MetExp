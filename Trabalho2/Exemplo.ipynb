{
 "cells": [
  {
   "cell_type": "markdown",
   "metadata": {},
   "source": [
    "<center>\n",
    "<h3>Universidade Federal do Rio Grande do Sul (UFRGS)<br>\n",
    "Programa de Pós-Graduação em Engenharia Civil (PPGEC)<br>\n",
    "PEC00144 - Métodos Experimentais em Engenharia Civil</h3>\n",
    "\n",
    "<h1>Trabalho 2</h1>\n",
    "\n",
    "<h3> Aluno: <a href=\"https://github.com/dutitello/\">Eduarto Pagnussat Titello</a> </h3>\n",
    "\n",
    "</center>\n",
    "\n",
    "\n",
    "# Apresentação\n",
    "\n",
    "Refazendo o exemplo do professor."
   ]
  },
  {
   "cell_type": "code",
   "execution_count": 59,
   "metadata": {},
   "outputs": [],
   "source": [
    "# Importando módulos\n",
    "import numpy as np\n",
    "import pandas as pd \n",
    "import matplotlib.pyplot as plt\n",
    "import matplotlib\n",
    "%config InlineBackend.figure_format = 'svg' # Muda backend do jupyter para SVG ;)\n",
    "import jupyter2latex as j2l # Uma maneira que encontrei para tabelas ficarem ok (github.com/dutitello/Jupyter2Latex)\n",
    "\n",
    "# Importando todas grandezas\n",
    "DimData = pd.read_excel('../resources/DimData.xlsx', \n",
    "                         index_col  =  0,\n",
    "                         sheet_name = 'DimData')\n",
    "\n",
    "#j2l.df2table(DimData)"
   ]
  },
  {
   "source": [
    "O problema aqui é a flecha de uma viga biapoiada retangular de propriedades:\n",
    "- $L = 10m$\n",
    "- $B \\times H = 0.2 \\times 0.5 m$\n",
    "- $A = 0.1 m^2$\n",
    "- $I=0.002083 m^4$\n",
    "- $\\rho = 2500 kg/m^3$\n",
    "- $\\mu_L = 250 kg/m^3$\n",
    "- $E_c = 30 \\times 10^9 N/m^2$\n",
    "- $E_c \\times I = 62.5 \\times 10^6 Nm^2$\n",
    "\n",
    "Sendo:\n",
    "$$ w_{max} = \\frac{5}{384}\\frac{qL^4}{EI} $$\n",
    "\n",
    "Considerando a carga aplicada $q$ como peso próprio: $q=\\mu_L \\times G = 250 kg/m \\times 9.81 m/s^2 = 2452.5 N/m$, logo a flecha máxima para o peso próprio é:\n",
    "$$ w_{max} = \\frac{5}{384}\\frac{2452.5N/m \\times 10m^4}{62.5 \\times 10^6 Nm^2} = 0.00511 m = 5.11 mm$$\n",
    "\n",
    "\n",
    "Adotando escalas de: (formato mod.reduzido : mod.real)\n",
    "- dimensões: 1m:10m \n",
    "- gravidade: 1G:1G\n",
    "- módulo E: 71GPa:30GPa\n",
    "- densidade $\\rho$: 2.7g/cm³:2.5g/cm³\n",
    "\n",
    "é necessária a adoção de uma base que considere tais grandezas, lembrando que E e $\\sigma$ tem mesmo formato de unidades:"
   ],
   "cell_type": "markdown",
   "metadata": {}
  },
  {
   "source": [
    "# Unidades fundamentais originais \n",
    "LMT = ['L', 'M', 'T']\n",
    "\n",
    "# Novas unidades fundamentais\n",
    "ABC = ['L', 'a', 'σ']\n",
    "\n",
    "# Importa matriz dimensional de ABC na base LMT\n",
    "base = DimData.loc[ABC, LMT]\n",
    "j2l.df2table(base, 'ABC na base LMT')\n",
    "\n",
    "# Inverte base de unidades de LMT para ABC\n",
    "base_i = pd.DataFrame(np.linalg.inv(base), index=LMT, columns=ABC)\n",
    "j2l.df2table(base_i, 'LMT na base ABC')"
   ],
   "cell_type": "code",
   "metadata": {},
   "execution_count": 60,
   "outputs": [
    {
     "output_type": "display_data",
     "data": {
      "text/latex": "\n    \\begin{table}[h!]\n    \\centering\n    \\caption{ABC na base LMT}\n    {\\begin{tabular}{lrrr}\n\\toprule\n{} &  L &  M &  T \\\\\n\\midrule\nL &  1 &  0 &  0 \\\\\na &  1 &  0 & -2 \\\\\nσ & -1 &  1 & -2 \\\\\n\\bottomrule\n\\end{tabular}\n}\n    \\label{}\n    \\end{table}\n    ",
      "text/html": "\n    <div name='' align='center'>\n    ABC na base LMT<br>\n    <table border=\"1\" class=\"dataframe\">\n  <thead>\n    <tr style=\"text-align: right;\">\n      <th></th>\n      <th>L</th>\n      <th>M</th>\n      <th>T</th>\n    </tr>\n  </thead>\n  <tbody>\n    <tr>\n      <th>L</th>\n      <td>1</td>\n      <td>0</td>\n      <td>0</td>\n    </tr>\n    <tr>\n      <th>a</th>\n      <td>1</td>\n      <td>0</td>\n      <td>-2</td>\n    </tr>\n    <tr>\n      <th>σ</th>\n      <td>-1</td>\n      <td>1</td>\n      <td>-2</td>\n    </tr>\n  </tbody>\n</table>\n    </div>",
      "text/markdown": "ABC na base LMT\n\n|    |   L |   M |   T |\n|:---|----:|----:|----:|\n| L  |   1 |   0 |   0 |\n| a  |   1 |   0 |  -2 |\n| σ  |  -1 |   1 |  -2 |\n\n<br>\n\n"
     },
     "metadata": {}
    },
    {
     "output_type": "display_data",
     "data": {
      "text/latex": "\n    \\begin{table}[h!]\n    \\centering\n    \\caption{LMT na base ABC}\n    {\\begin{tabular}{lrrr}\n\\toprule\n{} &    L &    a &    σ \\\\\n\\midrule\nL &  1.0 &  0.0 &  0.0 \\\\\nM &  2.0 & -1.0 &  1.0 \\\\\nT &  0.5 & -0.5 & -0.0 \\\\\n\\bottomrule\n\\end{tabular}\n}\n    \\label{}\n    \\end{table}\n    ",
      "text/html": "\n    <div name='' align='center'>\n    LMT na base ABC<br>\n    <table border=\"1\" class=\"dataframe\">\n  <thead>\n    <tr style=\"text-align: right;\">\n      <th></th>\n      <th>L</th>\n      <th>a</th>\n      <th>σ</th>\n    </tr>\n  </thead>\n  <tbody>\n    <tr>\n      <th>L</th>\n      <td>1.0</td>\n      <td>0.0</td>\n      <td>0.0</td>\n    </tr>\n    <tr>\n      <th>M</th>\n      <td>2.0</td>\n      <td>-1.0</td>\n      <td>1.0</td>\n    </tr>\n    <tr>\n      <th>T</th>\n      <td>0.5</td>\n      <td>-0.5</td>\n      <td>-0.0</td>\n    </tr>\n  </tbody>\n</table>\n    </div>",
      "text/markdown": "LMT na base ABC\n\n|    |   L |    a |   σ |\n|:---|----:|-----:|----:|\n| L  | 1   |  0   |   0 |\n| M  | 2   | -1   |   1 |\n| T  | 0.5 | -0.5 |  -0 |\n\n<br>\n\n"
     },
     "metadata": {}
    }
   ]
  },
  {
   "source": [
    "Matrizes dimensioanais dos parametros à serem testados no modelo reduzido"
   ],
   "cell_type": "markdown",
   "metadata": {}
  },
  {
   "cell_type": "code",
   "execution_count": 62,
   "metadata": {},
   "outputs": [
    {
     "output_type": "display_data",
     "data": {
      "text/latex": "\n    \\begin{table}[h!]\n    \\centering\n    \\caption{Matriz D na base LMT}\n    {\\begin{tabular}{lrrr}\n\\toprule\n{} &  L &  M &  T \\\\\n\\midrule\nF  &  1 &  1 & -2 \\\\\nq  &  0 &  1 & -2 \\\\\nL  &  1 &  0 &  0 \\\\\nEI &  3 &  1 & -2 \\\\\nμL & -1 &  1 &  0 \\\\\na  &  1 &  0 & -2 \\\\\n\\bottomrule\n\\end{tabular}\n}\n    \\label{}\n    \\end{table}\n    ",
      "text/html": "\n    <div name='' align='center'>\n    Matriz D na base LMT<br>\n    <table border=\"1\" class=\"dataframe\">\n  <thead>\n    <tr style=\"text-align: right;\">\n      <th></th>\n      <th>L</th>\n      <th>M</th>\n      <th>T</th>\n    </tr>\n  </thead>\n  <tbody>\n    <tr>\n      <th>F</th>\n      <td>1</td>\n      <td>1</td>\n      <td>-2</td>\n    </tr>\n    <tr>\n      <th>q</th>\n      <td>0</td>\n      <td>1</td>\n      <td>-2</td>\n    </tr>\n    <tr>\n      <th>L</th>\n      <td>1</td>\n      <td>0</td>\n      <td>0</td>\n    </tr>\n    <tr>\n      <th>EI</th>\n      <td>3</td>\n      <td>1</td>\n      <td>-2</td>\n    </tr>\n    <tr>\n      <th>μL</th>\n      <td>-1</td>\n      <td>1</td>\n      <td>0</td>\n    </tr>\n    <tr>\n      <th>a</th>\n      <td>1</td>\n      <td>0</td>\n      <td>-2</td>\n    </tr>\n  </tbody>\n</table>\n    </div>",
      "text/markdown": "Matriz D na base LMT\n\n|    |   L |   M |   T |\n|:---|----:|----:|----:|\n| F  |   1 |   1 |  -2 |\n| q  |   0 |   1 |  -2 |\n| L  |   1 |   0 |   0 |\n| EI |   3 |   1 |  -2 |\n| μL |  -1 |   1 |   0 |\n| a  |   1 |   0 |  -2 |\n\n<br>\n\n"
     },
     "metadata": {}
    },
    {
     "output_type": "display_data",
     "data": {
      "text/latex": "\n    \\begin{table}[h!]\n    \\centering\n    \\caption{Matriz D na base ABC}\n    {\\begin{tabular}{lrrr}\n\\toprule\n{} &    L &    a &    σ \\\\\n\\midrule\nF  &  2.0 &  0.0 &  1.0 \\\\\nq  &  1.0 &  0.0 &  1.0 \\\\\nL  &  1.0 &  0.0 &  0.0 \\\\\nEI &  4.0 &  0.0 &  1.0 \\\\\nμL &  1.0 & -1.0 &  1.0 \\\\\na  &  0.0 &  1.0 &  0.0 \\\\\n\\bottomrule\n\\end{tabular}\n}\n    \\label{}\n    \\end{table}\n    ",
      "text/html": "\n    <div name='' align='center'>\n    Matriz D na base ABC<br>\n    <table border=\"1\" class=\"dataframe\">\n  <thead>\n    <tr style=\"text-align: right;\">\n      <th></th>\n      <th>L</th>\n      <th>a</th>\n      <th>σ</th>\n    </tr>\n  </thead>\n  <tbody>\n    <tr>\n      <th>F</th>\n      <td>2.0</td>\n      <td>0.0</td>\n      <td>1.0</td>\n    </tr>\n    <tr>\n      <th>q</th>\n      <td>1.0</td>\n      <td>0.0</td>\n      <td>1.0</td>\n    </tr>\n    <tr>\n      <th>L</th>\n      <td>1.0</td>\n      <td>0.0</td>\n      <td>0.0</td>\n    </tr>\n    <tr>\n      <th>EI</th>\n      <td>4.0</td>\n      <td>0.0</td>\n      <td>1.0</td>\n    </tr>\n    <tr>\n      <th>μL</th>\n      <td>1.0</td>\n      <td>-1.0</td>\n      <td>1.0</td>\n    </tr>\n    <tr>\n      <th>a</th>\n      <td>0.0</td>\n      <td>1.0</td>\n      <td>0.0</td>\n    </tr>\n  </tbody>\n</table>\n    </div>",
      "text/markdown": "Matriz D na base ABC\n\n|    |   L |   a |   σ |\n|:---|----:|----:|----:|\n| F  |   2 |   0 |   1 |\n| q  |   1 |   0 |   1 |\n| L  |   1 |   0 |   0 |\n| EI |   4 |   0 |   1 |\n| μL |   1 |  -1 |   1 |\n| a  |   0 |   1 |   0 |\n\n<br>\n\n"
     },
     "metadata": {}
    }
   ],
   "source": [
    "par = ['F', 'q', 'L', 'EI', 'μL', 'a']\n",
    "npar = len(par)\n",
    "\n",
    "DMat1 = DimData.loc[par, LMT]\n",
    "j2l.df2table(DMat1, 'Matriz D na base LMT')\n",
    "\n",
    "DMat2 = np.matmul(DMat1, base_i)\n",
    "DMat2.rename(columns=dict(zip(LMT,ABC)), inplace=True)\n",
    "j2l.df2table(DMat2, 'Matriz D na base ABC')"
   ]
  },
  {
   "source": [
    "Definição da escala:"
   ],
   "cell_type": "markdown",
   "metadata": {}
  },
  {
   "cell_type": "code",
   "execution_count": 29,
   "metadata": {},
   "outputs": [
    {
     "output_type": "stream",
     "name": "stdout",
     "text": [
      "[[0.1        1.         2.36666667]\n [0.1        1.         2.36666667]\n [0.1        1.         2.36666667]\n [0.1        1.         2.36666667]\n [0.1        1.         2.36666667]\n [0.1        1.         2.36666667]]\n"
     ]
    }
   ],
   "source": [
    "λ_L    =  1/10         # length scale for the reduced model\n",
    "λ_a    =  1/1          # acceleration remains unchanged (same gravity)\n",
    "λ_σ    =  71/30        # model built with aluminum instead of concrete\n",
    "\n",
    "scales = np.array([λ_L, λ_a, λ_σ])\n",
    "scales = np.tile(scales, (npar, 1))\n",
    "\n",
    "print(scales)"
   ]
  },
  {
   "source": [
    "Valores de escala dos parametros"
   ],
   "cell_type": "markdown",
   "metadata": {}
  },
  {
   "cell_type": "code",
   "execution_count": 32,
   "metadata": {},
   "outputs": [
    {
     "output_type": "display_data",
     "data": {
      "text/latex": "\n    \\begin{table}[h!]\n    \\centering\n    \\caption{}\n    {\\begin{tabular}{lrr}\n\\toprule\n{} &         λ &          1/λ \\\\\n\\midrule\nF  &  0.023667 &    42.253521 \\\\\nq  &  0.236667 &     4.225352 \\\\\nL  &  0.100000 &    10.000000 \\\\\nEI &  0.000237 &  4225.352113 \\\\\nμL &  0.236667 &     4.225352 \\\\\na  &  1.000000 &     1.000000 \\\\\n\\bottomrule\n\\end{tabular}\n}\n    \\label{}\n    \\end{table}\n    ",
      "text/html": "\n    <div name='' align='center'>\n    <br>\n    <table border=\"1\" class=\"dataframe\">\n  <thead>\n    <tr style=\"text-align: right;\">\n      <th></th>\n      <th>λ</th>\n      <th>1/λ</th>\n    </tr>\n  </thead>\n  <tbody>\n    <tr>\n      <th>F</th>\n      <td>0.023667</td>\n      <td>42.253521</td>\n    </tr>\n    <tr>\n      <th>q</th>\n      <td>0.236667</td>\n      <td>4.225352</td>\n    </tr>\n    <tr>\n      <th>L</th>\n      <td>0.100000</td>\n      <td>10.000000</td>\n    </tr>\n    <tr>\n      <th>EI</th>\n      <td>0.000237</td>\n      <td>4225.352113</td>\n    </tr>\n    <tr>\n      <th>μL</th>\n      <td>0.236667</td>\n      <td>4.225352</td>\n    </tr>\n    <tr>\n      <th>a</th>\n      <td>1.000000</td>\n      <td>1.000000</td>\n    </tr>\n  </tbody>\n</table>\n    </div>",
      "text/markdown": "\n\n|    |           λ |        1/λ |\n|:---|------------:|-----------:|\n| F  | 0.0236667   |   42.2535  |\n| q  | 0.236667    |    4.22535 |\n| L  | 0.1         |   10       |\n| EI | 0.000236667 | 4225.35    |\n| μL | 0.236667    |    4.22535 |\n| a  | 1           |    1       |\n\n<br>\n\n"
     },
     "metadata": {}
    }
   ],
   "source": [
    "λs = np.prod(scales**DMat2, axis=1)\n",
    "\n",
    "ScaleFactors = pd.DataFrame({'λ': λs, '1/λ': 1/λs}, index=par)\n",
    "\n",
    "j2l.df2table(ScaleFactors)"
   ]
  },
  {
   "source": [
    "Com isso é possível determinar as propriedades do modelo reduzido, como por exemplo: $(EI)_m = \\lambda_{EI} . E_c . I $."
   ],
   "cell_type": "markdown",
   "metadata": {}
  },
  {
   "cell_type": "code",
   "execution_count": 35,
   "metadata": {},
   "outputs": [
    {
     "output_type": "stream",
     "name": "stdout",
     "text": [
      "EI do modelo reduzido deve ser 1.479E+04 Nm²\n"
     ]
    }
   ],
   "source": [
    "EI = 62.5e6\n",
    "EIm = ScaleFactors.loc['EI', 'λ'] * EI\n",
    "print(f\"EI do modelo reduzido deve ser {EIm:.3E} Nm²\")"
   ]
  },
  {
   "source": [
    "Adotando uma seção retangular de altura 5cm, a largura é definida de forma que: \n",
    "$$(EI)_m = E_m \\times \\frac{b_m h_m^3}{12}$$\n",
    "logo:\n",
    "$$ b_m = \\frac{12(EI)_m}{E_mh_m^3} $$"
   ],
   "cell_type": "markdown",
   "metadata": {}
  },
  {
   "source": [
    "Em = 71e9\n",
    "hm = 0.05\n",
    "bm = 12*EIm/(Em*hm**3)\n",
    "print(f'Largura da viga no modelo reduzido: {100*bm:.2f}cm')"
   ],
   "cell_type": "code",
   "metadata": {},
   "execution_count": 44,
   "outputs": [
    {
     "output_type": "stream",
     "name": "stdout",
     "text": [
      "Largura da viga no modelo reduzido: 2.00cm\n"
     ]
    }
   ]
  },
  {
   "source": [
    "Com isso o peso própio do modelo é:"
   ],
   "cell_type": "markdown",
   "metadata": {}
  },
  {
   "cell_type": "code",
   "execution_count": 55,
   "metadata": {},
   "outputs": [
    {
     "output_type": "stream",
     "name": "stdout",
     "text": [
      "Peso próprio do modelo: 26.487N/m\nPeso próprio esperado do modelo: 580.425N/m\n"
     ]
    }
   ],
   "source": [
    "qm = 2700*hm*bm*9.81\n",
    "qm_esp = ScaleFactors.loc['q', 'λ']*250*9.81\n",
    "print(f'Peso próprio do modelo: {qm:.3f}N/m')\n",
    "print(f'Peso próprio esperado do modelo: {qm_esp:.3f}N/m')"
   ]
  },
  {
   "source": [
    "Logo o modelo precisa ser muito mais pesado para que sejá valido... mesmo assim vamos testar a hipótese:"
   ],
   "cell_type": "markdown",
   "metadata": {}
  },
  {
   "cell_type": "code",
   "execution_count": 56,
   "metadata": {},
   "outputs": [
    {
     "output_type": "stream",
     "name": "stdout",
     "text": [
      "Flecha do modelo reduzido: 0.511mm\n"
     ]
    }
   ],
   "source": [
    "wm = 5/384*qm_esp*1**4/(EIm)\n",
    "print(f'Flecha do modelo reduzido: {1000*wm:.3f}mm')"
   ]
  },
  {
   "source": [
    "Ok, a flecha do modelo reduzido é 1/10 da flecha do modelo real, o que era esperado!\n",
    "\n",
    "Como o modelo é muito pesado é impraticável sua construção. Uma maneira alternativa é introduzir uma escala em EI, **forçando o uso de um pefil existente**, ficando com uma base: L, a, EI."
   ],
   "cell_type": "markdown",
   "metadata": {}
  },
  {
   "cell_type": "code",
   "execution_count": null,
   "metadata": {},
   "outputs": [],
   "source": []
  }
 ],
 "metadata": {
  "kernelspec": {
   "display_name": "Python 3",
   "language": "python",
   "name": "python3"
  },
  "language_info": {
   "codemirror_mode": {
    "name": "ipython",
    "version": 3
   },
   "file_extension": ".py",
   "mimetype": "text/x-python",
   "name": "python",
   "nbconvert_exporter": "python",
   "pygments_lexer": "ipython3",
   "version": "3.7.9-final"
  }
 },
 "nbformat": 4,
 "nbformat_minor": 2
}