{
 "cells": [
  {
   "cell_type": "markdown",
   "metadata": {},
   "source": [
    "<center>\n",
    "<h3>Universidade Federal do Rio Grande do Sul (UFRGS)<br>\n",
    "Programa de Pós-Graduação em Engenharia Civil (PPGEC)<br>\n",
    "PEC00144 - Métodos Experimentais em Engenharia Civil</h3>\n",
    "\n",
    "<h1>Trabalho 2</h1>\n",
    "\n",
    "<h3>Aluno: <a href=\"https://github.com/dutitello/\">Eduarto Pagnussat Titello</a></h3>\n",
    "\n",
    "</center>\n",
    "\n",
    "\n",
    "\n",
    "\n",
    "Este trabalho tem por objetivo: no tema de interesse, adotar um problema imaginário de formulação explícita, com 2 ou mais parametros dimensionais. Desenhar, formular e definir uma nova escala para o problema, fazendo uma análise de mudança de escala de forma a poder construír tal modelo."
   ]
  },
  {
   "cell_type": "code",
   "execution_count": 1,
   "metadata": {},
   "outputs": [],
   "source": [
    "# Importando e configurando módulos\n",
    "import numpy as np\n",
    "import pandas as pd \n",
    "import matplotlib.pyplot as plt\n",
    "#import matplotlib\n",
    "%config InlineBackend.figure_format = 'svg' # Muda backend do jupyter para SVG ;)\n",
    "import jupyter2latex as j2l # Uma maneira que encontrei para tabelas ficarem ok (github.com/dutitello/Jupyter2Latex)\n",
    "from math import pi"
   ]
  },
  {
   "source": [
    "\n",
    "# Apresentação do problema\n",
    "\n",
    "O problema adotado consiste na avaliação das duas primeiras frequências naturais de vibração de um poste em concreto armado, considerando seu comportamento como elástico. O poste adotado tem comprimento efetivo $L= 12m$, seção constante de diâmetro externo $d_e = 50cm$ e espessura $e=6 cm$, resultando em um diâmetro interno $d_i = 38cm$, conforme a figura:\n",
    "\n",
    "![Poste](./Images/Poste.png)"
   ],
   "cell_type": "markdown",
   "metadata": {}
  },
  {
   "source": [
    "Conforme Rocha (2020a), as frequências naturais de vibracão de uma viga engastada livre (modelo adotado para o poste) podem ser obtidas por \\ref{eq:wn}:\n",
    "\n",
    "\\begin{equation}\n",
    "f_n = \\frac{1}{2\\pi} {\\Big( \\frac{\\alpha_n}{L} \\Big)}^2 \\sqrt{\\frac{EI}{m}}\n",
    "\\label{eq:wn}\n",
    "\\end{equation}\n",
    "\n",
    "onde, para as duas primeiras frequências naturais, $\\alpha_1=1.88$ e $\\alpha_2=4.69$, respectivamente. \n",
    "\n",
    "A área da seção transversal circular vazada $A$ e seu momento de inércia $I$ são dados por:\n",
    "\n",
    "\\begin{equation}\n",
    "A = \\frac{\\pi}{4}\\big(d_e^2 - d_i^2 \\big)\n",
    "\\label{eq:Ac}\n",
    "\\end{equation}\n",
    "\n",
    "\\begin{equation}\n",
    "I = \\frac{\\pi}{64}\\big(d_e^4 - d_i^4 \\big)\n",
    "\\label{eq:Ic}\n",
    "\\end{equation}\n",
    "\n"
   ],
   "cell_type": "markdown",
   "metadata": {}
  },
  {
   "source": [
    "Adotando o subíndice \"$_c$\" para representar a estrutura real em concreto, sendo empregado concreto da classe C25, o módulo de elasticidade do material é $E_c=28 GPa$, enquanto sua densidade é aproximadamente $\\rho_c=2500 kg/m^3$. As propriedades da estrutura original são então:"
   ],
   "cell_type": "markdown",
   "metadata": {}
  },
  {
   "cell_type": "code",
   "execution_count": 2,
   "metadata": {},
   "outputs": [
    {
     "output_type": "stream",
     "name": "stdout",
     "text": [
      "\nPropriedades da estrutura:\n    Área da seção         A_c = 0.083 m^2\n    Momento de Inércia    I_c = 2.044E-03 m^4 \n    Rigidez EI         (EI)_c = 5.724E+07 N.m^2\n    Massa por compr.     μL_c = 207.35 kg/m\n    Massa total           m_c = 2488.14 kg\n\n"
     ]
    }
   ],
   "source": [
    "L_c   = 12.0   # m\n",
    "de_c  = 0.50   # m\n",
    "di_c  = 0.38   # m\n",
    "E_c   = 28.0E9 # N/m^2\n",
    "rho_c = 2500   # kg/m^3\n",
    "\n",
    "A_c  = pi/4*(de_c**2 - di_c**2)  # m^2\n",
    "I_c  = pi/64*(de_c**4 - di_c**4) # m^4\n",
    "\n",
    "EI_c = E_c*I_c   # Nm^2\n",
    "μL_c = A_c*rho_c # kg/m\n",
    "m_c  = μL_c*L_c  # kg\n",
    "\n",
    "print(f'''\n",
    "Propriedades da estrutura:\n",
    "    Área da seção         A_c = {A_c:.3f} m^2\n",
    "    Momento de Inércia    I_c = {I_c:.3E} m^4 \n",
    "    Rigidez EI         (EI)_c = {EI_c:.3E} N.m^2\n",
    "    Massa por compr.     μL_c = {μL_c:.2f} kg/m\n",
    "    Massa total           m_c = {m_c:.2f} kg\n",
    "''')"
   ]
  },
  {
   "source": [
    "# Definição do modelo reduzido\n",
    "\n",
    "Conforme a expressão \\ref{eq:wn}, as frequências naturais da estrutura são dependentes do seu comprimento $L$, da sua rigidez à flexão $EI$ e da sua massa $m$. Em relação às dimensões o fator de escala adotado será 1:25.Adotando um modelo reduzido em alumínio, com módulo de elasticidade $E_m=70GPa$ e densidade $\\rho_m=2700kg/m^3$, os demais fatores de escala serão relativos à rigidez $EI$ e a densidade $\\rho$. Em relação à densidade a escala do modelo é simplesmente 2700:2500. \n",
    "\n",
    "Quanto à rigidez $EI$, o fator de escala deve considerar perfis comercialmente viáveis, visto que $E_m$ é fixo, dessa forma é adotado o perfil tubular TR-004 da Aluita (Aluita, 2019), de diâmetro externo $d_{e,m}=12.70mm$ e diâmetro interno $d_{i,m}=10.22mm$. Assim:"
   ],
   "cell_type": "markdown",
   "metadata": {}
  },
  {
   "cell_type": "code",
   "execution_count": 3,
   "metadata": {},
   "outputs": [
    {
     "output_type": "stream",
     "name": "stdout",
     "text": [
      "\nPropriedades do modelo reduzido:\n    Momento de Inércia      I_m = 7.415E-10 m^4 \n    Rigidez EI           (EI)_m = 5.190E+01 N.m^2\n\n"
     ]
    }
   ],
   "source": [
    "de_m  = 12.70/1000 # m\n",
    "di_m  = 10.22/1000 # m\n",
    "E_m   = 70.0E9     # N/m^2\n",
    "rho_m = 2700       # kg/m^3\n",
    "\n",
    "I_m  = pi/64*(de_m**4 - di_m**4) # m^4\n",
    "EI_m = E_m*I_m   # Nm^2\n",
    "\n",
    "print(f'''\n",
    "Propriedades do modelo reduzido:\n",
    "    Momento de Inércia      I_m = {I_m:.3E} m^4 \n",
    "    Rigidez EI           (EI)_m = {EI_m:.3E} N.m^2\n",
    "''')"
   ]
  },
  {
   "cell_type": "code",
   "execution_count": 4,
   "metadata": {},
   "outputs": [
    {
     "output_type": "stream",
     "name": "stdout",
     "text": [
      "\nFatores de escala fornecidos:\n    Comprimento   L = 4.000E-02 \n    Massa         m = 1.080E+00 \n    Rigidez      EI = 9.067E-07\n\n"
     ]
    }
   ],
   "source": [
    "escala_L  = 1/25\n",
    "escala_m  = rho_m/rho_c\n",
    "escala_EI = EI_m/EI_c\n",
    "\n",
    "print(f'''\n",
    "Fatores de escala fornecidos:\n",
    "    Comprimento   L = {escala_L:.3E} \n",
    "    Massa         m = {escala_m:.3E} \n",
    "    Rigidez      EI = {escala_EI:.3E}\n",
    "''')"
   ]
  },
  {
   "source": [
    "# Análise do modelo reduzido \n",
    "\n",
    "Para que os resultados obtidos no modelo reduzido possam ser utilizados esses devem ser escalados de forma a representarem a estrutura real, para isso os dimensionais que envolvem o problema devem ter seus fatores de escala determinados conforme as escalas impostas. Para obtenção de tais fatores de escala, a base fundamental do sistema de unidades deve corresponder às unidades das escalas impostas, dessa forma o sistema $L, M, T$ (comprimento, massa, tempo) é transformado em um sistema $L, M, EI$ (comprimento, massa, rigidez EI), denominado no código como ABC. Cabe observar que na base ABC a massa é representada por $m$ e não $M$. "
   ],
   "cell_type": "markdown",
   "metadata": {}
  },
  {
   "cell_type": "code",
   "execution_count": 5,
   "metadata": {},
   "outputs": [
    {
     "output_type": "display_data",
     "data": {
      "text/latex": "\n    \\begin{table}[h!]\n    \\centering\n    \\caption{L, M, EI na base L, M, T}\n    {\\begin{tabular}{lrrr}\n\\toprule\n{} &  L &  M &  T \\\\\n\\midrule\nL  &  1 &  0 &  0 \\\\\nm  &  0 &  1 &  0 \\\\\nEI &  3 &  1 & -2 \\\\\n\\bottomrule\n\\end{tabular}\n}\n    \\label{}\n    \\end{table}\n    ",
      "text/html": "\n    <div name='' align='center'>\n    L, M, EI na base L, M, T<br>\n    <table border=\"1\" class=\"dataframe\">\n  <thead>\n    <tr style=\"text-align: right;\">\n      <th></th>\n      <th>L</th>\n      <th>M</th>\n      <th>T</th>\n    </tr>\n  </thead>\n  <tbody>\n    <tr>\n      <th>L</th>\n      <td>1</td>\n      <td>0</td>\n      <td>0</td>\n    </tr>\n    <tr>\n      <th>m</th>\n      <td>0</td>\n      <td>1</td>\n      <td>0</td>\n    </tr>\n    <tr>\n      <th>EI</th>\n      <td>3</td>\n      <td>1</td>\n      <td>-2</td>\n    </tr>\n  </tbody>\n</table>\n    </div>",
      "text/markdown": "L, M, EI na base L, M, T\n\n|    |   L |   M |   T |\n|:---|----:|----:|----:|\n| L  |   1 |   0 |   0 |\n| m  |   0 |   1 |   0 |\n| EI |   3 |   1 |  -2 |\n\n<br>\n\n"
     },
     "metadata": {}
    },
    {
     "output_type": "display_data",
     "data": {
      "text/latex": "\n    \\begin{table}[h!]\n    \\centering\n    \\caption{L, M, T na base L, M, EI}\n    {\\begin{tabular}{lrrr}\n\\toprule\n{} &    L &    m &   EI \\\\\n\\midrule\nL &  1.0 &  0.0 &  0.0 \\\\\nM &  0.0 &  1.0 &  0.0 \\\\\nT &  1.5 &  0.5 & -0.5 \\\\\n\\bottomrule\n\\end{tabular}\n}\n    \\label{}\n    \\end{table}\n    ",
      "text/html": "\n    <div name='' align='center'>\n    L, M, T na base L, M, EI<br>\n    <table border=\"1\" class=\"dataframe\">\n  <thead>\n    <tr style=\"text-align: right;\">\n      <th></th>\n      <th>L</th>\n      <th>m</th>\n      <th>EI</th>\n    </tr>\n  </thead>\n  <tbody>\n    <tr>\n      <th>L</th>\n      <td>1.0</td>\n      <td>0.0</td>\n      <td>0.0</td>\n    </tr>\n    <tr>\n      <th>M</th>\n      <td>0.0</td>\n      <td>1.0</td>\n      <td>0.0</td>\n    </tr>\n    <tr>\n      <th>T</th>\n      <td>1.5</td>\n      <td>0.5</td>\n      <td>-0.5</td>\n    </tr>\n  </tbody>\n</table>\n    </div>",
      "text/markdown": "L, M, T na base L, M, EI\n\n|    |   L |   m |   EI |\n|:---|----:|----:|-----:|\n| L  | 1   | 0   |  0   |\n| M  | 0   | 1   |  0   |\n| T  | 1.5 | 0.5 | -0.5 |\n\n<br>\n\n"
     },
     "metadata": {}
    }
   ],
   "source": [
    "# Importando DimData \n",
    "DimData = pd.read_excel('../resources/DimData.xlsx', \n",
    "                         index_col  =  0,\n",
    "                         sheet_name = 'DimData')\n",
    "\n",
    "\n",
    "# Unidades fundamentais originais \n",
    "LMT = ['L', 'M', 'T']\n",
    "\n",
    "# Novas unidades fundamentais\n",
    "ABC = ['L', 'm', 'EI'] \n",
    "\n",
    "# Importa matriz dimensional de ABC na base LMT\n",
    "base = DimData.loc[ABC, LMT]\n",
    "j2l.df2table(base, 'L, M, EI na base L, M, T')\n",
    "\n",
    "# Inverte base de unidades de LMT para ABC\n",
    "base_i = pd.DataFrame(np.linalg.inv(base), index=LMT, columns=ABC)\n",
    "j2l.df2table(base_i, 'L, M, T na base L, M, EI')"
   ]
  },
  {
   "source": [
    "Conforme \\ref{eq:wn}, os parametros dimensionais relacionados as frequencias naturais de vibração são $f$, $L$, $m$ e $EI$, sendo que desses apenas $f$ não foi imposto. Formando a matriz dimensional $\\bf D$ do problema no sistema ABC temos que: "
   ],
   "cell_type": "markdown",
   "metadata": {}
  },
  {
   "cell_type": "code",
   "execution_count": 6,
   "metadata": {},
   "outputs": [
    {
     "output_type": "display_data",
     "data": {
      "text/latex": "\n    \\begin{table}[h!]\n    \\centering\n    \\caption{Matriz D na base ABC}\n    {\\begin{tabular}{lrrr}\n\\toprule\n{} &    L &    m &   EI \\\\\n\\midrule\nf  & -1.5 & -0.5 &  0.5 \\\\\nL  &  1.0 &  0.0 &  0.0 \\\\\nm  &  0.0 &  1.0 &  0.0 \\\\\nEI &  0.0 &  0.0 &  1.0 \\\\\n\\bottomrule\n\\end{tabular}\n}\n    \\label{}\n    \\end{table}\n    ",
      "text/html": "\n    <div name='' align='center'>\n    Matriz D na base ABC<br>\n    <table border=\"1\" class=\"dataframe\">\n  <thead>\n    <tr style=\"text-align: right;\">\n      <th></th>\n      <th>L</th>\n      <th>m</th>\n      <th>EI</th>\n    </tr>\n  </thead>\n  <tbody>\n    <tr>\n      <th>f</th>\n      <td>-1.5</td>\n      <td>-0.5</td>\n      <td>0.5</td>\n    </tr>\n    <tr>\n      <th>L</th>\n      <td>1.0</td>\n      <td>0.0</td>\n      <td>0.0</td>\n    </tr>\n    <tr>\n      <th>m</th>\n      <td>0.0</td>\n      <td>1.0</td>\n      <td>0.0</td>\n    </tr>\n    <tr>\n      <th>EI</th>\n      <td>0.0</td>\n      <td>0.0</td>\n      <td>1.0</td>\n    </tr>\n  </tbody>\n</table>\n    </div>",
      "text/markdown": "Matriz D na base ABC\n\n|    |    L |    m |   EI |\n|:---|-----:|-----:|-----:|\n| f  | -1.5 | -0.5 |  0.5 |\n| L  |  1   |  0   |  0   |\n| m  |  0   |  1   |  0   |\n| EI |  0   |  0   |  1   |\n\n<br>\n\n"
     },
     "metadata": {}
    }
   ],
   "source": [
    "par = ['f', 'L', 'm', 'EI']\n",
    "npar = len(par)\n",
    "\n",
    "DMat_LMT = DimData.loc[par, LMT]\n",
    "DMat_ABC = np.matmul(DMat_LMT, base_i)\n",
    "DMat_ABC.rename(columns=dict(zip(LMT, ABC)), inplace=True) # Renomeia colunas para nova base\n",
    "j2l.df2table(DMat_ABC, 'Matriz D na base ABC')"
   ]
  },
  {
   "source": [
    "Através da matriz dimensional $\\bf D$ no sistema ABC os parametros de escala podem ser cálculados:"
   ],
   "cell_type": "markdown",
   "metadata": {}
  },
  {
   "cell_type": "code",
   "execution_count": 10,
   "metadata": {},
   "outputs": [
    {
     "output_type": "display_data",
     "data": {
      "text/latex": "\n    \\begin{table}[h!]\n    \\centering\n    \\caption{Fatores de escala}\n    {\\begin{tabular}{lrr}\n\\toprule\n{} &             λ &           1/λ \\\\\n\\midrule\nf  &  1.145323e-01 &  8.731160e+00 \\\\\nL  &  4.000000e-02 &  2.500000e+01 \\\\\nm  &  1.080000e+00 &  9.259259e-01 \\\\\nEI &  9.066920e-07 &  1.102910e+06 \\\\\n\\bottomrule\n\\end{tabular}\n}\n    \\label{}\n    \\end{table}\n    ",
      "text/html": "\n    <div name='' align='center'>\n    Fatores de escala<br>\n    <table border=\"1\" class=\"dataframe\">\n  <thead>\n    <tr style=\"text-align: right;\">\n      <th></th>\n      <th>λ</th>\n      <th>1/λ</th>\n    </tr>\n  </thead>\n  <tbody>\n    <tr>\n      <th>f</th>\n      <td>1.145323e-01</td>\n      <td>8.731160e+00</td>\n    </tr>\n    <tr>\n      <th>L</th>\n      <td>4.000000e-02</td>\n      <td>2.500000e+01</td>\n    </tr>\n    <tr>\n      <th>m</th>\n      <td>1.080000e+00</td>\n      <td>9.259259e-01</td>\n    </tr>\n    <tr>\n      <th>EI</th>\n      <td>9.066920e-07</td>\n      <td>1.102910e+06</td>\n    </tr>\n  </tbody>\n</table>\n    </div>",
      "text/markdown": "Fatores de escala\n\n|    |           λ |          1/λ |\n|:---|------------:|-------------:|\n| f  | 0.114532    |  8.73116     |\n| L  | 0.04        | 25           |\n| m  | 1.08        |  0.925926    |\n| EI | 9.06692e-07 |  1.10291e+06 |\n\n<br>\n\n"
     },
     "metadata": {}
    }
   ],
   "source": [
    "# Ok, não é \"bonito\" isso de ficar fazendo escala=f(escala)...\n",
    "escalas = np.array([escala_L, escala_m, escala_EI])\n",
    "escalas = np.tile(escalas, (npar, 1))\n",
    "escalas = np.prod(escalas**DMat_ABC, axis=1)\n",
    "escalas = pd.DataFrame({'λ': λs, '1/λ': 1/λs}, index=par)\n",
    "j2l.df2table(escalas, 'Fatores de escala')"
   ]
  },
  {
   "source": [
    "Assim o poste pode ter suas frequencias naturais de vibração determinadas experimentalmente por um modelo em alumínio com apenas 4% da sua altura, desde que a frequência obtida seja escala pelo fator 8.73. "
   ],
   "cell_type": "markdown",
   "metadata": {}
  },
  {
   "cell_type": "code",
   "execution_count": null,
   "metadata": {},
   "outputs": [],
   "source": []
  }
 ],
 "metadata": {
  "kernelspec": {
   "display_name": "Python 3",
   "language": "python",
   "name": "python3"
  },
  "language_info": {
   "codemirror_mode": {
    "name": "ipython",
    "version": 3
   },
   "file_extension": ".py",
   "mimetype": "text/x-python",
   "name": "python",
   "nbconvert_exporter": "python",
   "pygments_lexer": "ipython3",
   "version": "3.7.9-final"
  }
 },
 "nbformat": 4,
 "nbformat_minor": 2
}