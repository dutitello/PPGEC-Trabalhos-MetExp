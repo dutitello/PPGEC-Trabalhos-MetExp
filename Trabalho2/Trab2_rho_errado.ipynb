{
 "cells": [
  {
   "cell_type": "markdown",
   "metadata": {},
   "source": [
    "<center>\n",
    "<h3>Universidade Federal do Rio Grande do Sul (UFRGS)<br>\n",
    "Programa de Pós-Graduação em Engenharia Civil (PPGEC)<br>\n",
    "PEC00144 - Métodos Experimentais em Engenharia Civil</h3>\n",
    "\n",
    "<h1>Trabalho 2</h1>\n",
    "\n",
    "<h3>Aluno: <a href=\"https://github.com/dutitello/\">Eduarto Pagnussat Titello</a></h3>\n",
    "\n",
    "</center>\n",
    "\n",
    "\n",
    "\n",
    "\n",
    "Este trabalho tem por objetivo: no tema de interesse, adotar um problema imaginário de formulação explícita, com 2 ou mais parametros dimensionais. Desenhar, formular e definir uma nova escala para o problema, fazendo uma análise de mudança de escala de forma a poder construír tal modelo."
   ]
  },
  {
   "cell_type": "code",
   "execution_count": 1,
   "metadata": {},
   "outputs": [],
   "source": [
    "# Importando e configurando módulos\n",
    "import numpy as np\n",
    "import pandas as pd \n",
    "import matplotlib.pyplot as plt\n",
    "#import matplotlib\n",
    "%config InlineBackend.figure_format = 'svg' # Muda backend do jupyter para SVG ;)\n",
    "import jupyter2latex as j2l # Uma maneira que encontrei para tabelas ficarem ok (github.com/dutitello/Jupyter2Latex)\n",
    "from math import pi"
   ]
  },
  {
   "source": [
    "\n",
    "# Apresentação do problema\n",
    "\n",
    "O problema adotado consiste na avaliação das duas primeiras frequências naturais de vibração de um poste em concreto armado, considerando seu comportamento como elástico. O poste adotado tem comprimento efetivo $L= 12m$, seção constante de diâmetro externo $d_e = 50cm$ e espessura $e=6 cm$, resultando em um diâmetro interno $d_i = 38cm$, conforme a figura:\n",
    "\n",
    "![Poste](./Images/Poste.png)"
   ],
   "cell_type": "markdown",
   "metadata": {}
  },
  {
   "source": [
    "Conforme Rocha (2020a), as frequências naturais de vibracão de uma viga engastada livre (modelo adotado para o poste) podem ser obtidas por \\ref{eq:wn}:\n",
    "\n",
    "\\begin{equation}\n",
    "f_n = \\frac{1}{2\\pi} {\\Big( \\frac{\\alpha_n}{L} \\Big)}^2 \\sqrt{\\frac{EI}{\\mu_L}}\n",
    "\\label{eq:wn}\n",
    "\\end{equation}\n",
    "\n",
    "onde, para as duas primeiras frequências naturais, $\\alpha_1=1.88$ e $\\alpha_2=4.69$, respectivamente, e $\\mu_L$ é a massa linear da estrutura (massa/comprimento).\n",
    "\n",
    "A área da seção transversal circular vazada $A$ e seu momento de inércia $I$ são dados por:\n",
    "\n",
    "\\begin{equation}\n",
    "A = \\frac{\\pi}{4}\\big(d_e^2 - d_i^2 \\big)\n",
    "\\label{eq:Ac}\n",
    "\\end{equation}\n",
    "\n",
    "\\begin{equation}\n",
    "I = \\frac{\\pi}{64}\\big(d_e^4 - d_i^4 \\big)\n",
    "\\label{eq:Ic}\n",
    "\\end{equation}\n",
    "\n"
   ],
   "cell_type": "markdown",
   "metadata": {}
  },
  {
   "source": [
    "Adotando o subíndice \"$_c$\" para representar a estrutura real em concreto, sendo empregado concreto da classe C25, o módulo de elasticidade do material é $E_c=28 GPa$, enquanto sua densidade é aproximadamente $\\rho_c=2500 kg/m^3$. As propriedades da estrutura original são então:"
   ],
   "cell_type": "markdown",
   "metadata": {}
  },
  {
   "cell_type": "code",
   "execution_count": 2,
   "metadata": {},
   "outputs": [
    {
     "output_type": "stream",
     "name": "stdout",
     "text": [
      "\nPropriedades da estrutura:\n    Área da seção             A_c = 0.083 m^2\n    Momento de Inércia        I_c = 2.044E-03 m^4 \n    Rigidez EI             (EI)_c = 5.724E+07 N.m^2\n    Massa linear             μL_c = 207.35 kg/m\n    Massa total               m_c = 2488.14 kg\n\n"
     ]
    }
   ],
   "source": [
    "L_c   = 12.0   # m\n",
    "de_c  = 0.50   # m\n",
    "di_c  = 0.38   # m\n",
    "E_c   = 28.0E9 # N/m^2\n",
    "rho_c = 2500   # kg/m^3\n",
    "\n",
    "A_c  = pi/4*(de_c**2 - di_c**2)  # m^2\n",
    "I_c  = pi/64*(de_c**4 - di_c**4) # m^4\n",
    "\n",
    "EI_c  = E_c*I_c   # Nm^2\n",
    "muL_c = A_c*rho_c # kg/m\n",
    "m_c   = muL_c*L_c # kg\n",
    "\n",
    "print(f'''\n",
    "Propriedades da estrutura:\n",
    "    Área da seção             A_c = {A_c:.3f} m^2\n",
    "    Momento de Inércia        I_c = {I_c:.3E} m^4 \n",
    "    Rigidez EI             (EI)_c = {EI_c:.3E} N.m^2\n",
    "    Massa linear             μL_c = {muL_c:.2f} kg/m\n",
    "    Massa total               m_c = {m_c:.2f} kg\n",
    "''')"
   ]
  },
  {
   "source": [
    "# Definição do modelo reduzido\n",
    "\n",
    "Conforme a expressão \\ref{eq:wn}, as frequências naturais da estrutura são dependentes do seu comprimento $L$, da sua rigidez à flexão $EI$ e da sua massa linear $\\mu$. Em relação às dimensões o fator de escala adotado será 1:25. Adotando um modelo reduzido em alumínio, com módulo de elasticidade $E_m=70GPa$ e densidade $\\rho_m=2700kg/m^3$, os demais fatores de escala serão relativos à rigidez $EI$ e a massa linear $\\mu_L$. \n",
    "\n",
    "Os fatores de escala $EI$ e $\\mu_L$ devem considerar perfis de alumínio comercialmente viáveis, dessa forma, é adotado o perfil cilindrico cheio VR-002 da Aluita (Aluita, 2019), de diâmetro externo $d_{e,m}=6.00mm$. O perfil cilindro cheio é adotado de forma a reduzir as frequências naturais do modelo reduzido, visto que esse possuí razão $EI/\\mu_L$ menor que os perfis tubulares da marca (TR-002 e TR-004). \n",
    "Os fatores de escala são então obtidos relacionando as propriedades da seção do modelo à seção do poste:"
   ],
   "cell_type": "markdown",
   "metadata": {}
  },
  {
   "cell_type": "code",
   "execution_count": 3,
   "metadata": {},
   "outputs": [
    {
     "output_type": "stream",
     "name": "stdout",
     "text": [
      "\nPropriedades do modelo reduzido:\n    Área da seção             A_m = 2.827E-05 m^2\n    Momento de Inércia        I_m = 6.362E-11 m^4 \n    Rigidez EI             (EI)_m = 4.453E+00 N.m^2\n    Massa linear             μL_m = 7.63E-02 kg/m\n\n"
     ]
    }
   ],
   "source": [
    "# Perfil tubular TR-004\n",
    "#de_m  = 12.70/1000 # m\n",
    "#di_m  = 10.22/1000 # m\n",
    "# Perfil tubular TR-002\n",
    "#de_m  = 9.53/1000  # m\n",
    "#di_m  = 6.35/1000  # m\n",
    "# Perfil cilindrico VR-002\n",
    "de_m  = 6/1000  # m\n",
    "di_m  = 0/1000  # m\n",
    "E_m   = 70.0E9     # N/m^2\n",
    "rho_m = 2700       # kg/m^3\n",
    "\n",
    "A_m   = pi/4*(de_m**2 - di_m**2)  # m^2\n",
    "I_m   = pi/64*(de_m**4 - di_m**4) # m^4\n",
    "EI_m  = E_m*I_m   # Nm^2\n",
    "muL_m = A_m*rho_m # kg/m\n",
    "\n",
    "print(f'''\n",
    "Propriedades do modelo reduzido:\n",
    "    Área da seção             A_m = {A_m:.3E} m^2\n",
    "    Momento de Inércia        I_m = {I_m:.3E} m^4 \n",
    "    Rigidez EI             (EI)_m = {EI_m:.3E} N.m^2\n",
    "    Massa linear             μL_m = {muL_m:.2E} kg/m\n",
    "''')"
   ]
  },
  {
   "cell_type": "code",
   "execution_count": 4,
   "metadata": {},
   "outputs": [
    {
     "output_type": "stream",
     "name": "stdout",
     "text": [
      "\nFatores de escala impostos:\n    Comprimento      L = 1:2.500E+01 \n    Densidade        ρ = 1:9.259E-01 \n    Rigidez         EI = 1:1.285E+07\n\n"
     ]
    }
   ],
   "source": [
    "escala_L   = 1/25\n",
    "escala_rho = rho_m/rho_c\n",
    "escala_EI  = EI_m/EI_c\n",
    "\n",
    "print(f'''\n",
    "Fatores de escala impostos:\n",
    "    Comprimento      L = 1:{1/escala_L:.3E} \n",
    "    Densidade        ρ = 1:{1/escala_rho:.3E} \n",
    "    Rigidez         EI = 1:{1/escala_EI:.3E}\n",
    "''')"
   ]
  },
  {
   "source": [
    "# Análise do modelo reduzido \n",
    "\n",
    "A interpretação dos resultados do modelo reduzido requer que sua resposta seja escalada de forma à corresponder à estrutura real. Para obtenção de tal fator de escala, a base fundamental do sistema de unidades deve corresponder aos dimensionais das escalas impostas, dessa forma o sistema $L, M, T$ (comprimento, massa, tempo) é inicialmente transformado em um sistema de base $L, \\mu_L, EI$ (comprimento, massa linear, rigidez EI), denominado no código como ABC."
   ],
   "cell_type": "markdown",
   "metadata": {}
  },
  {
   "cell_type": "code",
   "execution_count": 5,
   "metadata": {},
   "outputs": [
    {
     "output_type": "display_data",
     "data": {
      "text/latex": "\n    \\begin{table}[h!]\n    \\centering\n    \\caption{L, ρ, EI na base L, M, T}\n    {\\begin{tabular}{lrrr}\n\\toprule\n{} &  L &  M &  T \\\\\n\\midrule\nL  &  1 &  0 &  0 \\\\\nρ  & -3 &  1 &  0 \\\\\nEI &  3 &  1 & -2 \\\\\n\\bottomrule\n\\end{tabular}\n}\n    \\label{}\n    \\end{table}\n    ",
      "text/html": "\n    <div name='' align='center'>\n    L, ρ, EI na base L, M, T<br>\n    <table border=\"1\" class=\"dataframe\">\n  <thead>\n    <tr style=\"text-align: right;\">\n      <th></th>\n      <th>L</th>\n      <th>M</th>\n      <th>T</th>\n    </tr>\n  </thead>\n  <tbody>\n    <tr>\n      <th>L</th>\n      <td>1</td>\n      <td>0</td>\n      <td>0</td>\n    </tr>\n    <tr>\n      <th>ρ</th>\n      <td>-3</td>\n      <td>1</td>\n      <td>0</td>\n    </tr>\n    <tr>\n      <th>EI</th>\n      <td>3</td>\n      <td>1</td>\n      <td>-2</td>\n    </tr>\n  </tbody>\n</table>\n    </div>",
      "text/markdown": "L, ρ, EI na base L, M, T\n\n|    |   L |   M |   T |\n|:---|----:|----:|----:|\n| L  |   1 |   0 |   0 |\n| ρ  |  -3 |   1 |   0 |\n| EI |   3 |   1 |  -2 |\n\n<br>\n\n"
     },
     "metadata": {}
    },
    {
     "output_type": "display_data",
     "data": {
      "text/latex": "\n    \\begin{table}[h!]\n    \\centering\n    \\caption{L, M, T na base L, ρ, EI}\n    {\\begin{tabular}{lrrr}\n\\toprule\n{} &    L &    ρ &   EI \\\\\n\\midrule\nL &  1.0 & -0.0 & -0.0 \\\\\nM &  3.0 &  1.0 &  0.0 \\\\\nT &  3.0 &  0.5 & -0.5 \\\\\n\\bottomrule\n\\end{tabular}\n}\n    \\label{}\n    \\end{table}\n    ",
      "text/html": "\n    <div name='' align='center'>\n    L, M, T na base L, ρ, EI<br>\n    <table border=\"1\" class=\"dataframe\">\n  <thead>\n    <tr style=\"text-align: right;\">\n      <th></th>\n      <th>L</th>\n      <th>ρ</th>\n      <th>EI</th>\n    </tr>\n  </thead>\n  <tbody>\n    <tr>\n      <th>L</th>\n      <td>1.0</td>\n      <td>-0.0</td>\n      <td>-0.0</td>\n    </tr>\n    <tr>\n      <th>M</th>\n      <td>3.0</td>\n      <td>1.0</td>\n      <td>0.0</td>\n    </tr>\n    <tr>\n      <th>T</th>\n      <td>3.0</td>\n      <td>0.5</td>\n      <td>-0.5</td>\n    </tr>\n  </tbody>\n</table>\n    </div>",
      "text/markdown": "L, M, T na base L, ρ, EI\n\n|    |   L |    ρ |   EI |\n|:---|----:|-----:|-----:|\n| L  |   1 | -0   | -0   |\n| M  |   3 |  1   |  0   |\n| T  |   3 |  0.5 | -0.5 |\n\n<br>\n\n"
     },
     "metadata": {}
    }
   ],
   "source": [
    "# Importando DimData \n",
    "DimData = pd.read_excel('../resources/DimData.xlsx', \n",
    "                         index_col  =  0,\n",
    "                         sheet_name = 'DimData')\n",
    "\n",
    "\n",
    "# Unidades fundamentais originais \n",
    "LMT = ['L', 'M', 'T']\n",
    "\n",
    "# Novas unidades fundamentais\n",
    "ABC = ['L', 'ρ', 'EI'] \n",
    "\n",
    "# Importa matriz dimensional de ABC na base LMT\n",
    "base = DimData.loc[ABC, LMT]\n",
    "j2l.df2table(base, 'L, ρ, EI na base L, M, T')\n",
    "\n",
    "# Inverte base de unidades de LMT para ABC\n",
    "base_i = pd.DataFrame(np.linalg.inv(base), index=LMT, columns=ABC)\n",
    "j2l.df2table(base_i, 'L, M, T na base L, ρ, EI')"
   ]
  },
  {
   "source": [
    "Conforme \\ref{eq:wn}, os parametros dimensionais relacionados as frequencias naturais de vibração são $f$, $L$, $\\mu_L$ e $EI$, sendo que $L$, $\\mu_L$ e $EI$ foram impostos, enquanto $f$ ficou livre. Formando a matriz dimensional $\\bf D$ do problema no sistema ABC, considerando ainda, a titulo de verificação, a massa $m$ e a densidade $\\rho$, temos que: "
   ],
   "cell_type": "markdown",
   "metadata": {}
  },
  {
   "cell_type": "code",
   "execution_count": 6,
   "metadata": {},
   "outputs": [
    {
     "output_type": "display_data",
     "data": {
      "text/latex": "\n    \\begin{table}[h!]\n    \\centering\n    \\caption{Matriz D na base L, ρ, EI}\n    {\\begin{tabular}{lrrr}\n\\toprule\n{} &    L &    ρ &   EI \\\\\n\\midrule\nf  & -3.0 & -0.5 &  0.5 \\\\\nL  &  1.0 &  0.0 &  0.0 \\\\\nρ  &  0.0 &  1.0 &  0.0 \\\\\nEI &  0.0 &  0.0 &  1.0 \\\\\nm  &  3.0 &  1.0 &  0.0 \\\\\nμL &  2.0 &  1.0 &  0.0 \\\\\n\\bottomrule\n\\end{tabular}\n}\n    \\label{}\n    \\end{table}\n    ",
      "text/html": "\n    <div name='' align='center'>\n    Matriz D na base L, ρ, EI<br>\n    <table border=\"1\" class=\"dataframe\">\n  <thead>\n    <tr style=\"text-align: right;\">\n      <th></th>\n      <th>L</th>\n      <th>ρ</th>\n      <th>EI</th>\n    </tr>\n  </thead>\n  <tbody>\n    <tr>\n      <th>f</th>\n      <td>-3.0</td>\n      <td>-0.5</td>\n      <td>0.5</td>\n    </tr>\n    <tr>\n      <th>L</th>\n      <td>1.0</td>\n      <td>0.0</td>\n      <td>0.0</td>\n    </tr>\n    <tr>\n      <th>ρ</th>\n      <td>0.0</td>\n      <td>1.0</td>\n      <td>0.0</td>\n    </tr>\n    <tr>\n      <th>EI</th>\n      <td>0.0</td>\n      <td>0.0</td>\n      <td>1.0</td>\n    </tr>\n    <tr>\n      <th>m</th>\n      <td>3.0</td>\n      <td>1.0</td>\n      <td>0.0</td>\n    </tr>\n    <tr>\n      <th>μL</th>\n      <td>2.0</td>\n      <td>1.0</td>\n      <td>0.0</td>\n    </tr>\n  </tbody>\n</table>\n    </div>",
      "text/markdown": "Matriz D na base L, ρ, EI\n\n|    |   L |    ρ |   EI |\n|:---|----:|-----:|-----:|\n| f  |  -3 | -0.5 |  0.5 |\n| L  |   1 |  0   |  0   |\n| ρ  |   0 |  1   |  0   |\n| EI |   0 |  0   |  1   |\n| m  |   3 |  1   |  0   |\n| μL |   2 |  1   |  0   |\n\n<br>\n\n"
     },
     "metadata": {}
    }
   ],
   "source": [
    "par = ['f', 'L', 'ρ', 'EI', 'm', 'μL']\n",
    "npar = len(par)\n",
    "\n",
    "DMat_LMT = DimData.loc[par, LMT]\n",
    "DMat_ABC = np.matmul(DMat_LMT, base_i)\n",
    "DMat_ABC.rename(columns=dict(zip(LMT, ABC)), inplace=True) # Renomeia colunas para nova base\n",
    "j2l.df2table(DMat_ABC, 'Matriz D na base L, ρ, EI')"
   ]
  },
  {
   "source": [
    "Através da matriz dimensional $\\bf D$ no sistema ABC os parametros de escala podem ser cálculados:"
   ],
   "cell_type": "markdown",
   "metadata": {}
  },
  {
   "cell_type": "code",
   "execution_count": 7,
   "metadata": {},
   "outputs": [
    {
     "output_type": "display_data",
     "data": {
      "text/latex": "\n    \\begin{table}[h!]\n    \\centering\n    \\caption{Fatores de escala}\n    {\\begin{tabular}{lrr}\n\\toprule\n{} &             λ &           1/λ \\\\\n\\midrule\nf  &  4.193535e+00 &  2.384623e-01 \\\\\nL  &  4.000000e-02 &  2.500000e+01 \\\\\nρ  &  1.080000e+00 &  9.259259e-01 \\\\\nEI &  7.779366e-08 &  1.285452e+07 \\\\\nm  &  6.912000e-05 &  1.446759e+04 \\\\\nμL &  1.728000e-03 &  5.787037e+02 \\\\\n\\bottomrule\n\\end{tabular}\n}\n    \\label{}\n    \\end{table}\n    ",
      "text/html": "\n    <div name='' align='center'>\n    Fatores de escala<br>\n    <table border=\"1\" class=\"dataframe\">\n  <thead>\n    <tr style=\"text-align: right;\">\n      <th></th>\n      <th>λ</th>\n      <th>1/λ</th>\n    </tr>\n  </thead>\n  <tbody>\n    <tr>\n      <th>f</th>\n      <td>4.193535e+00</td>\n      <td>2.384623e-01</td>\n    </tr>\n    <tr>\n      <th>L</th>\n      <td>4.000000e-02</td>\n      <td>2.500000e+01</td>\n    </tr>\n    <tr>\n      <th>ρ</th>\n      <td>1.080000e+00</td>\n      <td>9.259259e-01</td>\n    </tr>\n    <tr>\n      <th>EI</th>\n      <td>7.779366e-08</td>\n      <td>1.285452e+07</td>\n    </tr>\n    <tr>\n      <th>m</th>\n      <td>6.912000e-05</td>\n      <td>1.446759e+04</td>\n    </tr>\n    <tr>\n      <th>μL</th>\n      <td>1.728000e-03</td>\n      <td>5.787037e+02</td>\n    </tr>\n  </tbody>\n</table>\n    </div>",
      "text/markdown": "Fatores de escala\n\n|    |           λ |             1/λ |\n|:---|------------:|----------------:|\n| f  | 4.19353     |     0.238462    |\n| L  | 0.04        |    25           |\n| ρ  | 1.08        |     0.925926    |\n| EI | 7.77937e-08 |     1.28545e+07 |\n| m  | 6.912e-05   | 14467.6         |\n| μL | 0.001728    |   578.704       |\n\n<br>\n\n"
     },
     "metadata": {}
    }
   ],
   "source": [
    "# Ok, não é \"bonito\" isso de ficar fazendo escala=f(escala)...\n",
    "escalas = np.array([escala_L, escala_rho, escala_EI])\n",
    "escalas = np.tile(escalas, (npar, 1))\n",
    "escalas = np.prod(escalas**DMat_ABC, axis=1)\n",
    "escalas = pd.DataFrame({'λ': escalas, '1/λ': 1/escalas}, index=par)\n",
    "j2l.df2table(escalas, 'Fatores de escala')"
   ]
  },
  {
   "source": [
    "Observa-se então que as escalas impostas estão de acordo, e, que as frequências naturais de vibração do modelo reduzido são 9.08 vezes maiores que as da estrutura. "
   ],
   "cell_type": "markdown",
   "metadata": {}
  },
  {
   "source": [
    "# Validação do modelo reduzido\n",
    "\n",
    "A validade da solução analítica pode ser verificada por \\ref{eq:wn}, onde as frequências naturais do modelo reduzido devem ser 9.08 vezes maiores que as observadas na estrutura real. Para isso o comprimento $L$ do modelo reduzido deve ser determinado, enquanto as demais propriedades são conhecidas."
   ],
   "cell_type": "markdown",
   "metadata": {}
  },
  {
   "cell_type": "code",
   "execution_count": 8,
   "metadata": {},
   "outputs": [
    {
     "output_type": "stream",
     "name": "stdout",
     "text": [
      "Comprimento do modelo reduzido  L_m = 0.480 m\n"
     ]
    }
   ],
   "source": [
    "L_m = L_c * escalas.loc['L', 'λ']\n",
    "print(f'Comprimento do modelo reduzido  L_m = {L_m:.3f} m')"
   ]
  },
  {
   "source": [
    "def fn(L, EI, muL):\n",
    "    fns = 1/(2*pi)*1/L**2*(EI/muL)**0.5\n",
    "    fn1 = 1.88**2 * fns\n",
    "    fn2 = 4.69**2 * fns\n",
    "    return fn1, fn2\n",
    "\n",
    "\n",
    "fn_c = fn(L_c, EI_c, muL_c)\n",
    "fn_m = fn(L_c*escalas.loc['L', 'λ'], EI_c*escalas.loc['EI', 'λ'], muL_c*escalas.loc['μL', 'λ'])\n",
    "\n",
    "print(fn_c)\n",
    "print(fn_m)\n",
    "\n",
    "fn_m[0]/escalas.loc['f', 'λ'], fn_m[1]/escalas.loc['f', 'λ']"
   ],
   "cell_type": "code",
   "metadata": {},
   "execution_count": 9,
   "outputs": [
    {
     "output_type": "stream",
     "name": "stdout",
     "text": [
      "(2.052536133020371, 12.773820177549059)\n(8.607381499650645, 53.56745818369895)\n"
     ]
    },
    {
     "output_type": "execute_result",
     "data": {
      "text/plain": [
       "(2.0525361330203706, 12.773820177549057)"
      ]
     },
     "metadata": {},
     "execution_count": 9
    }
   ]
  },
  {
   "source": [
    "\n",
    "\\begin{equation}\n",
    "f_n = \\frac{1}{2\\pi} {\\Big( \\frac{\\alpha_n}{L} \\Big)}^2 \\sqrt{\\frac{EI}{m}}\n",
    "\\end{equation}\n",
    "\n",
    "onde, para as duas primeiras frequências naturais, $\\alpha_1=1.88$ e $\\alpha_2=4.69$, respectivamente. "
   ],
   "cell_type": "markdown",
   "metadata": {}
  },
  {
   "cell_type": "code",
   "execution_count": null,
   "metadata": {},
   "outputs": [],
   "source": [
    "escalas.loc['f', 'λ']"
   ]
  },
  {
   "cell_type": "code",
   "execution_count": null,
   "metadata": {},
   "outputs": [],
   "source": []
  }
 ],
 "metadata": {
  "kernelspec": {
   "display_name": "Python 3",
   "language": "python",
   "name": "python3"
  },
  "language_info": {
   "codemirror_mode": {
    "name": "ipython",
    "version": 3
   },
   "file_extension": ".py",
   "mimetype": "text/x-python",
   "name": "python",
   "nbconvert_exporter": "python",
   "pygments_lexer": "ipython3",
   "version": "3.7.9-final"
  }
 },
 "nbformat": 4,
 "nbformat_minor": 2
}