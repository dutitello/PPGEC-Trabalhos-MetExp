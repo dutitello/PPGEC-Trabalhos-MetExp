{
 "cells": [
  {
   "cell_type": "markdown",
   "metadata": {},
   "source": [
    "<link rel=\"stylesheet\" href=\"./resources/stl.css\" type=\"text/css\"/>\n",
    "\n",
    "<div class=\"cabecalho\">\n",
    "Universidade Federal do Rio Grande do Sul (UFRGS)\n",
    "    \n",
    "Programa de Pós-Graduação em Engenharia Civil (PPGEC)   \n",
    "</div>\n",
    "\n",
    "<h1> PEC00144: Métodos Experimentais em Engenharia Civil </h1>\n",
    "<h2> Trabalho 1: </h2>\n",
    "\n",
    "[Parte I](#parte_1)\n",
    "\n",
    "[Parte II](#parte_2): Defina um problema de seu interesse, para o qual exista uma expressão dimensional conhecida e utilizada na prática. Reformule a expressão em termos de números $\\Pi$ propostos. Apresente algum resultado (simulado ou disponível na literatura) na forma de gráficos relacionando estes números. \n",
    "\n",
    "---\n",
    "\n",
    "[_Eng. MSc Eduarto Pagnussat Titello_](https://github.com/dutitello/)"
   ]
  },
  {
   "cell_type": "markdown",
   "metadata": {},
   "source": [
    "# Parte I: <a name=\"parte_1\"></a>\n",
    "\n",
    "Esta parte do respectivo trabalho tem por objetivo:\n",
    "\n",
    "1. pesquisar por um número $\\Pi$ importante (Reynolds, Froude, Strouhal, Cauchy, Mach, Scruton, etc.); \n",
    "2. escrever a matriz dimensional das grandezas envolvidas;\n",
    "3. confirmar a adimensionalidade usando a fórmula $\\vec{\\alpha}\\,{\\bf D}$;\n",
    "4. descrever exemplos de aplicação.\n",
    "\n",
    "\n",
    "## 1. Número de Strouhal\n",
    "\n",
    "O número de Strouhal é um número adimensional que descreve mecanismos de fluxo oscilante "
   ]
  },
  {
   "cell_type": "code",
   "execution_count": null,
   "metadata": {},
   "outputs": [],
   "source": [
    "# Importando módulos\n",
    "import numpy as np\n",
    "import pandas as pd \n",
    "import matplotlib as plt"
   ]
  },
  {
   "cell_type": "code",
   "execution_count": null,
   "metadata": {},
   "outputs": [],
   "source": []
  }
 ],
 "metadata": {
  "kernelspec": {
   "display_name": "Python 3",
   "language": "python",
   "name": "python3"
  },
  "language_info": {
   "codemirror_mode": {
    "name": "ipython",
    "version": 3
   },
   "file_extension": ".py",
   "mimetype": "text/x-python",
   "name": "python",
   "nbconvert_exporter": "python",
   "pygments_lexer": "ipython3",
   "version": "3.7.9"
  }
 },
 "nbformat": 4,
 "nbformat_minor": 2
}
